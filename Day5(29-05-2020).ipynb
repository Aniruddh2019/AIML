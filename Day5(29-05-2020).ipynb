{
 "cells": [
  {
   "cell_type": "markdown",
   "metadata": {},
   "source": [
    "Documentation : [Click here](https://docs.google.com/document/d/10QYlcZaD8Co6gdt1ceAx0yxVX3hQLRBPZ9BbMCAs_cU/edit)"
   ]
  },
  {
   "cell_type": "code",
   "execution_count": 2,
   "metadata": {},
   "outputs": [
    {
     "name": "stdout",
     "output_type": "stream",
     "text": [
      "1\n",
      "2\n",
      "3\n",
      "4\n"
     ]
    }
   ],
   "source": [
    "#Loop Control Statements: break,continue\n",
    "for i in range(1,11):\n",
    "    if i % 5==0:\n",
    "        break\n",
    "    else:\n",
    "            print(i) "
   ]
  },
  {
   "cell_type": "code",
   "execution_count": 4,
   "metadata": {},
   "outputs": [
    {
     "name": "stdout",
     "output_type": "stream",
     "text": [
      "1\n",
      "2\n",
      "3\n",
      "4\n",
      "6\n",
      "7\n",
      "8\n",
      "9\n"
     ]
    }
   ],
   "source": [
    "for i in range(1,11):\n",
    "    if i % 5==0:\n",
    "        continue\n",
    "    else:\n",
    "            print(i)"
   ]
  },
  {
   "cell_type": "code",
   "execution_count": 1,
   "metadata": {},
   "outputs": [
    {
     "name": "stdout",
     "output_type": "stream",
     "text": [
      "enter usernamepython\n",
      "Enter Passwordabc123\n",
      "Login Sucess\n"
     ]
    }
   ],
   "source": [
    "username='python'\n",
    "password='abc123'\n",
    "while (True):\n",
    "    user=input(\"enter username\")\n",
    "    if user==username:\n",
    "        passwordd=input(\"Enter Password\")\n",
    "        if passwordd==password:\n",
    "            print(\"Login Sucess\")\n",
    "            break\n",
    "    else:\n",
    "       \n",
    "        continue\n",
    "        "
   ]
  },
  {
   "cell_type": "markdown",
   "metadata": {},
   "source": [
    "# Functions\n",
    "1. predefined\n",
    "2. user defined\n",
    "def func_name(parameters):\n",
    "   statements\n",
    "   return"
   ]
  },
  {
   "cell_type": "code",
   "execution_count": 10,
   "metadata": {},
   "outputs": [
    {
     "name": "stdout",
     "output_type": "stream",
     "text": [
      "Enter nameaj\n",
      "hello aj\n",
      "None\n"
     ]
    }
   ],
   "source": [
    "def name(username):\n",
    "    print(\"hello\",username)\n",
    "username=input(\"Enter name\")\n",
    "print(name(username))"
   ]
  },
  {
   "cell_type": "code",
   "execution_count": 14,
   "metadata": {},
   "outputs": [
    {
     "name": "stdout",
     "output_type": "stream",
     "text": [
      "9 -1 20 0.8\n"
     ]
    }
   ],
   "source": [
    "def arithmetic(a,b):\n",
    "    return a+b,a-b,a*b,a/b\n",
    "add,sub,mul,div=arithmetic(4,5)\n",
    "print(add,sub,mul,div)"
   ]
  },
  {
   "cell_type": "code",
   "execution_count": 16,
   "metadata": {},
   "outputs": [
    {
     "data": {
      "text/plain": [
       "30"
      ]
     },
     "execution_count": 16,
     "metadata": {},
     "output_type": "execute_result"
    }
   ],
   "source": [
    "def func(a,b):\n",
    "    return a+b\n",
    "func(10,20)"
   ]
  },
  {
   "cell_type": "markdown",
   "metadata": {},
   "source": [
    "# Different Typed of Arguments\n",
    "1. Required positional arguments\n",
    "2. Default Arguments"
   ]
  },
  {
   "cell_type": "code",
   "execution_count": 17,
   "metadata": {},
   "outputs": [
    {
     "name": "stdout",
     "output_type": "stream",
     "text": [
      "a value: 10\n",
      "b value 20\n",
      "Addition is: 30\n"
     ]
    }
   ],
   "source": [
    "def add(a,b):\n",
    "    print(\"a value:\",a)\n",
    "    print(\"b value\",b)\n",
    "    print(\"Addition is:\",a+b)\n",
    "add(10,20)"
   ]
  },
  {
   "cell_type": "code",
   "execution_count": 24,
   "metadata": {},
   "outputs": [
    {
     "name": "stdout",
     "output_type": "stream",
     "text": [
      "1st value1\n",
      "2nd value2\n"
     ]
    },
    {
     "data": {
      "text/plain": [
       "3"
      ]
     },
     "execution_count": 24,
     "metadata": {},
     "output_type": "execute_result"
    }
   ],
   "source": [
    "def add(a,b):\n",
    "    a=int(input(\"1st value\"))\n",
    "    b=int(input(\"2nd value\"))\n",
    "    return a+b\n",
    "add(0,0)"
   ]
  },
  {
   "cell_type": "code",
   "execution_count": 27,
   "metadata": {},
   "outputs": [
    {
     "name": "stdout",
     "output_type": "stream",
     "text": [
      "30\n",
      "60\n",
      "100\n"
     ]
    }
   ],
   "source": [
    "def add(*a):\n",
    "    return sum(a)\n",
    "print(add(10,20))\n",
    "print(add(10,20,30))\n",
    "print(add(10,20,30,40))"
   ]
  },
  {
   "cell_type": "code",
   "execution_count": 30,
   "metadata": {},
   "outputs": [
    {
     "name": "stdout",
     "output_type": "stream",
     "text": [
      "100\n",
      "8000\n"
     ]
    }
   ],
   "source": [
    "#NEsted Functions: square,cube\n",
    "def square(a):\n",
    "    return a*a\n",
    "def cube(x):\n",
    "    return square(x)*x\n",
    "\n",
    "print(square(10))\n",
    "print(cube(20))"
   ]
  },
  {
   "cell_type": "code",
   "execution_count": 31,
   "metadata": {},
   "outputs": [
    {
     "name": "stdout",
     "output_type": "stream",
     "text": [
      "200\n",
      "6000\n",
      "240000\n"
     ]
    }
   ],
   "source": [
    "#variable length arguments\n",
    "#(120,230,34,450,460)-->Tuple\n",
    "def add(*a):\n",
    "    m=1\n",
    "    for i in a:\n",
    "        m=m*i\n",
    "    return m\n",
    "print(add(10,20))\n",
    "print(add(10,20,30))\n",
    "print(add(10,20,30,40))"
   ]
  },
  {
   "cell_type": "markdown",
   "metadata": {},
   "source": [
    "# Data Structures\n",
    "# List\n",
    "  1. Elements seperated by ,\n",
    "  2. indexed\n",
    "  3. Ordered\n",
    "  4. Duplicate values\n",
    "  5. Mutable\n",
    "  6. Any type of values"
   ]
  },
  {
   "cell_type": "code",
   "execution_count": 32,
   "metadata": {},
   "outputs": [
    {
     "name": "stdout",
     "output_type": "stream",
     "text": [
      "<class 'list'>\n"
     ]
    }
   ],
   "source": [
    "list1=[12,23,45,True,\"abc\",12]\n",
    "print(type(list1))"
   ]
  },
  {
   "cell_type": "code",
   "execution_count": 37,
   "metadata": {},
   "outputs": [
    {
     "name": "stdout",
     "output_type": "stream",
     "text": [
      "[1, 2, 3, 10, 20, 30]\n",
      "[1, 2, 3, 1, 2, 3, 1, 2, 3]\n",
      "2\n",
      "[2, 3]\n",
      "True\n",
      "False\n"
     ]
    }
   ],
   "source": [
    "#Operators Supported by List : +,*,[],[:],in,not in\n",
    "list1=[1,2,3]\n",
    "list2=[10,20,30]\n",
    "print(list1+list2)#Concatenation\n",
    "print(list1*3)#Repetition\n",
    "print(list1[1])#2\n",
    "print(list1[1:3])#[1,2]\n",
    "print(2 in list1)#True\n",
    "print(200 in list1)#False"
   ]
  },
  {
   "cell_type": "code",
   "execution_count": 39,
   "metadata": {},
   "outputs": [
    {
     "name": "stdout",
     "output_type": "stream",
     "text": [
      "[1, 2, 3, 'python']\n"
     ]
    }
   ],
   "source": [
    "list1=[1,2,3,\"python\"]\n",
    "print(list1)"
   ]
  },
  {
   "cell_type": "code",
   "execution_count": 48,
   "metadata": {},
   "outputs": [
    {
     "name": "stdout",
     "output_type": "stream",
     "text": [
      "[1, 2, 3, 4]\n",
      "4\n",
      "1\n",
      "4\n",
      "['p', 'y', 't', 'h', 'o', 'n']\n",
      "[1, 2, 3, 100]\n"
     ]
    }
   ],
   "source": [
    "#Built-in functions:len(),min(),max(),list()\n",
    "list1=[1,2,3,4]\n",
    "s1=\"python\"\n",
    "print(list1)\n",
    "print(len(list1))\n",
    "print(min(list1))\n",
    "print(max(list1))\n",
    "list2=list(s1)\n",
    "print(list2)\n",
    "list1[-1]=100\n",
    "print(list1)"
   ]
  },
  {
   "cell_type": "code",
   "execution_count": 54,
   "metadata": {},
   "outputs": [
    {
     "name": "stdout",
     "output_type": "stream",
     "text": [
      "10\n",
      "11\n",
      "12\n",
      "13\n"
     ]
    }
   ],
   "source": [
    "for num in range(10, 14):\n",
    "\n",
    "    for i in range(2, num):\n",
    "\n",
    "        if num%i == 1:\n",
    "\n",
    "            print(num)\n",
    "\n",
    "            break"
   ]
  },
  {
   "cell_type": "code",
   "execution_count": null,
   "metadata": {},
   "outputs": [],
   "source": []
  }
 ],
 "metadata": {
  "kernelspec": {
   "display_name": "Python 3",
   "language": "python",
   "name": "python3"
  },
  "language_info": {
   "codemirror_mode": {
    "name": "ipython",
    "version": 3
   },
   "file_extension": ".py",
   "mimetype": "text/x-python",
   "name": "python",
   "nbconvert_exporter": "python",
   "pygments_lexer": "ipython3",
   "version": "3.8.0"
  }
 },
 "nbformat": 4,
 "nbformat_minor": 4
}
