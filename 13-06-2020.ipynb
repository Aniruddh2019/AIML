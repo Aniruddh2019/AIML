{
 "cells": [
  {
   "cell_type": "markdown",
   "metadata": {},
   "source": [
    "Documentation of Project Steps [Click Here](https://docs.google.com/document/d/1Y4Ojwqgn_-Xp_2zvWNeUDzNy9uwW3ZD3lsaqJ-ym-dI/edit)\n",
    "\n",
    "Documentation of Predicition of diabetes [Click Here](https://docs.google.com/document/d/1PUE-pZ_bDW3ZCG1zDpfs6HG0J5UGeqkx_SjN82OCzMI/edit)\n",
    "\n",
    "Documentation of Session [Click Here](https://docs.google.com/document/d/1WrkWFmmhCmX8Oi9Aw6uLhw0zU5IvTfYjJoVJIXzN_WM/edit)"
   ]
  },
  {
   "cell_type": "code",
   "execution_count": 4,
   "metadata": {},
   "outputs": [
    {
     "data": {
      "text/plain": [
       "time.struct_time(tm_year=2020, tm_mon=6, tm_mday=21, tm_hour=0, tm_min=0, tm_sec=0, tm_wday=6, tm_yday=173, tm_isdst=-1)"
      ]
     },
     "execution_count": 4,
     "metadata": {},
     "output_type": "execute_result"
    }
   ],
   "source": [
    "import time\n",
    "\n",
    "str = '21/06/2020'\n",
    "\n",
    "datetime_value = time.strptime(str,\"%d/%m/%Y\")\n",
    "datetime_value"
   ]
  },
  {
   "cell_type": "code",
   "execution_count": null,
   "metadata": {},
   "outputs": [],
   "source": []
  }
 ],
 "metadata": {
  "kernelspec": {
   "display_name": "Python 3",
   "language": "python",
   "name": "python3"
  },
  "language_info": {
   "codemirror_mode": {
    "name": "ipython",
    "version": 3
   },
   "file_extension": ".py",
   "mimetype": "text/x-python",
   "name": "python",
   "nbconvert_exporter": "python",
   "pygments_lexer": "ipython3",
   "version": "3.8.0"
  }
 },
 "nbformat": 4,
 "nbformat_minor": 4
}
