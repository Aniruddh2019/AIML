{
 "cells": [
  {
   "cell_type": "markdown",
   "metadata": {},
   "source": [
    "Documentation of Naive Bayes [Click Here](https://docs.google.com/document/d/1R-PWNPitXzj_Q8gw2G-HFbWQW-Wp4PrDfqntb-3bsYw/edit)\n",
    "\n",
    "Documentation of Session [Click Here](https://docs.google.com/document/d/1Ea8IzMW3Hps5qafqy4vCsw0DAqE_rcwHmORO-3j9yBQ/edit)"
   ]
  },
  {
   "cell_type": "code",
   "execution_count": null,
   "metadata": {},
   "outputs": [],
   "source": []
  }
 ],
 "metadata": {
  "kernelspec": {
   "display_name": "Python 3",
   "language": "python",
   "name": "python3"
  },
  "language_info": {
   "codemirror_mode": {
    "name": "ipython",
    "version": 3
   },
   "file_extension": ".py",
   "mimetype": "text/x-python",
   "name": "python",
   "nbconvert_exporter": "python",
   "pygments_lexer": "ipython3",
   "version": "3.8.0"
  }
 },
 "nbformat": 4,
 "nbformat_minor": 4
}
