{
  "nbformat": 4,
  "nbformat_minor": 0,
  "metadata": {
    "colab": {
      "name": "09-07-2020.ipynb",
      "provenance": [],
      "collapsed_sections": []
    },
    "kernelspec": {
      "name": "python3",
      "display_name": "Python 3"
    }
  },
  "cells": [
    {
      "cell_type": "markdown",
      "metadata": {
        "id": "NtXnWEy-TFty",
        "colab_type": "text"
      },
      "source": [
        "Documentation of Session [Click here](https://docs.google.com/document/d/1ncfJfeJTDQMi6GhcYHIjlqzBkI3yxEEqRr81rrSK9PI/edit#heading=h.1s2t13ger8ak)\n",
        "\n",
        "Documentation of Image Classification [Click Here](https://docs.google.com/document/d/1t0H64vkTHa_PqceXz-DHDZI2ad2QJpaHjNudoWxI3J0/edit#)"
      ]
    },
    {
      "cell_type": "code",
      "metadata": {
        "id": "P1dVmdnRtapW",
        "colab_type": "code",
        "colab": {}
      },
      "source": [
        ""
      ],
      "execution_count": null,
      "outputs": []
    },
    {
      "cell_type": "markdown",
      "metadata": {
        "id": "8EnC_BJrTEaY",
        "colab_type": "text"
      },
      "source": [
        ""
      ]
    },
    {
      "cell_type": "markdown",
      "metadata": {
        "id": "YLUO_a1eu9hZ",
        "colab_type": "text"
      },
      "source": [
        "## Importing the required packages\n"
      ]
    },
    {
      "cell_type": "code",
      "metadata": {
        "id": "6I2w9rzZvG9q",
        "colab_type": "code",
        "colab": {}
      },
      "source": [
        "import tensorflow as tf\n",
        "import tensorflow.keras as keras\n",
        "import numpy as np\n",
        "import matplotlib.pyplot as plt\n",
        "%matplotlib inline\n"
      ],
      "execution_count": 2,
      "outputs": []
    },
    {
      "cell_type": "code",
      "metadata": {
        "id": "DMP99C8uvX4q",
        "colab_type": "code",
        "colab": {}
      },
      "source": [
        "from keras.datasets.mnist import load_data\n"
      ],
      "execution_count": 3,
      "outputs": []
    },
    {
      "cell_type": "code",
      "metadata": {
        "id": "O1io2fj2vpHY",
        "colab_type": "code",
        "colab": {
          "base_uri": "https://localhost:8080/",
          "height": 70
        },
        "outputId": "ac70bf28-c616-44b5-fe75-604056c56ec9"
      },
      "source": [
        "## load_data -- return value is two tuples train,test\n",
        "(train_digits,train_labels),(test_digits,test_labels) = load_data()\n",
        "print(train_digits.shape)\n",
        "##There are 60K images in the training data.Each image size is 28*28"
      ],
      "execution_count": 4,
      "outputs": [
        {
          "output_type": "stream",
          "text": [
            "Downloading data from https://s3.amazonaws.com/img-datasets/mnist.npz\n",
            "11493376/11490434 [==============================] - 0s 0us/step\n",
            "(60000, 28, 28)\n"
          ],
          "name": "stdout"
        }
      ]
    },
    {
      "cell_type": "code",
      "metadata": {
        "id": "GRsJBIyjwiAz",
        "colab_type": "code",
        "colab": {
          "base_uri": "https://localhost:8080/",
          "height": 34
        },
        "outputId": "c8e33f07-a6e9-4ee7-a98c-e12325fd365b"
      },
      "source": [
        "print(test_digits.shape)\n",
        "##There are 10 classes from class 0 to class 9"
      ],
      "execution_count": 5,
      "outputs": [
        {
          "output_type": "stream",
          "text": [
            "(10000, 28, 28)\n"
          ],
          "name": "stdout"
        }
      ]
    },
    {
      "cell_type": "code",
      "metadata": {
        "id": "O5RKHWDXxIjv",
        "colab_type": "code",
        "colab": {
          "base_uri": "https://localhost:8080/",
          "height": 34
        },
        "outputId": "9c5dda1b-9c78-47f2-d2aa-9b3e4568943b"
      },
      "source": [
        "print(train_labels.shape)"
      ],
      "execution_count": 6,
      "outputs": [
        {
          "output_type": "stream",
          "text": [
            "(60000,)\n"
          ],
          "name": "stdout"
        }
      ]
    },
    {
      "cell_type": "code",
      "metadata": {
        "id": "ja9QZJiMxC2y",
        "colab_type": "code",
        "colab": {
          "base_uri": "https://localhost:8080/",
          "height": 34
        },
        "outputId": "3f434924-7ebd-42e6-a118-d9c707609cc5"
      },
      "source": [
        "type(train_labels)"
      ],
      "execution_count": 7,
      "outputs": [
        {
          "output_type": "execute_result",
          "data": {
            "text/plain": [
              "numpy.ndarray"
            ]
          },
          "metadata": {
            "tags": []
          },
          "execution_count": 7
        }
      ]
    },
    {
      "cell_type": "code",
      "metadata": {
        "id": "FMkupWsTy2mn",
        "colab_type": "code",
        "colab": {
          "base_uri": "https://localhost:8080/",
          "height": 210
        },
        "outputId": "d353d57a-4809-4166-af52-b22a287bf9d8"
      },
      "source": [
        "import pandas as pd\n",
        "pd.Series(train_labels).value_counts()"
      ],
      "execution_count": 8,
      "outputs": [
        {
          "output_type": "execute_result",
          "data": {
            "text/plain": [
              "1    6742\n",
              "7    6265\n",
              "3    6131\n",
              "2    5958\n",
              "9    5949\n",
              "0    5923\n",
              "6    5918\n",
              "8    5851\n",
              "4    5842\n",
              "5    5421\n",
              "dtype: int64"
            ]
          },
          "metadata": {
            "tags": []
          },
          "execution_count": 8
        }
      ]
    },
    {
      "cell_type": "code",
      "metadata": {
        "id": "P1-dIxcGy_7M",
        "colab_type": "code",
        "colab": {
          "base_uri": "https://localhost:8080/",
          "height": 210
        },
        "outputId": "6ffe9eb8-2454-470b-a828-591814e70c42"
      },
      "source": [
        "pd.Series(test_labels).value_counts()"
      ],
      "execution_count": 9,
      "outputs": [
        {
          "output_type": "execute_result",
          "data": {
            "text/plain": [
              "1    1135\n",
              "2    1032\n",
              "7    1028\n",
              "3    1010\n",
              "9    1009\n",
              "4     982\n",
              "0     980\n",
              "8     974\n",
              "6     958\n",
              "5     892\n",
              "dtype: int64"
            ]
          },
          "metadata": {
            "tags": []
          },
          "execution_count": 9
        }
      ]
    },
    {
      "cell_type": "markdown",
      "metadata": {
        "id": "oCVuIrWHz3S_",
        "colab_type": "text"
      },
      "source": [
        "## EDA"
      ]
    },
    {
      "cell_type": "code",
      "metadata": {
        "id": "I2v2I30FzYqW",
        "colab_type": "code",
        "colab": {
          "base_uri": "https://localhost:8080/",
          "height": 299
        },
        "outputId": "fc370ccf-4be1-4698-c130-5133f7350c4d"
      },
      "source": [
        "plt.imshow(train_digits[0],cmap='gray')\n",
        "plt.title(\"Digit\"+ str(train_labels[0]))"
      ],
      "execution_count": 17,
      "outputs": [
        {
          "output_type": "execute_result",
          "data": {
            "text/plain": [
              "Text(0.5, 1.0, 'Digit5')"
            ]
          },
          "metadata": {
            "tags": []
          },
          "execution_count": 17
        },
        {
          "output_type": "display_data",
          "data": {
            "image/png": "[encoded data removed]",
            "text/plain": [
              "<Figure size 432x288 with 1 Axes>"
            ]
          },
          "metadata": {
            "tags": [],
            "needs_background": "light"
          }
        }
      ]
    },
    {
      "cell_type": "code",
      "metadata": {
        "id": "XBIQ72HU0JPZ",
        "colab_type": "code",
        "colab": {
          "base_uri": "https://localhost:8080/",
          "height": 265
        },
        "outputId": "e43666af-6008-47f2-eb0f-7f1283b755d7"
      },
      "source": [
        "plt.hist(train_digits[0])\n",
        "plt.show()"
      ],
      "execution_count": 13,
      "outputs": [
        {
          "output_type": "display_data",
          "data": {
            "image/png": "[encoded data removed]",
            "text/plain": [
              "<Figure size 432x288 with 1 Axes>"
            ]
          },
          "metadata": {
            "tags": [],
            "needs_background": "light"
          }
        }
      ]
    },
    {
      "cell_type": "code",
      "metadata": {
        "id": "Qas3qiIq1bSA",
        "colab_type": "code",
        "colab": {
          "base_uri": "https://localhost:8080/",
          "height": 265
        },
        "outputId": "fbd7080e-03bf-4e72-be88-f041155f8bf8"
      },
      "source": [
        "plt.hist(train_digits[0].flat,bins=255)\n",
        "plt.show()"
      ],
      "execution_count": 14,
      "outputs": [
        {
          "output_type": "display_data",
          "data": {
            "image/png": "[encoded data removed]",
            "text/plain": [
              "<Figure size 432x288 with 1 Axes>"
            ]
          },
          "metadata": {
            "tags": [],
            "needs_background": "light"
          }
        }
      ]
    },
    {
      "cell_type": "code",
      "metadata": {
        "id": "llsVabGm1zVj",
        "colab_type": "code",
        "colab": {
          "base_uri": "https://localhost:8080/",
          "height": 335
        },
        "outputId": "91738118-fbb6-4b5b-f6fe-16bdfe2cbdae"
      },
      "source": [
        "plt.hist(train_digits[14].flat)"
      ],
      "execution_count": 16,
      "outputs": [
        {
          "output_type": "execute_result",
          "data": {
            "text/plain": [
              "(array([713.,  17.,   1.,   2.,  10.,   0.,   4.,   4.,   2.,  31.]),\n",
              " array([  0. ,  25.5,  51. ,  76.5, 102. , 127.5, 153. , 178.5, 204. ,\n",
              "        229.5, 255. ]),\n",
              " <a list of 10 Patch objects>)"
            ]
          },
          "metadata": {
            "tags": []
          },
          "execution_count": 16
        },
        {
          "output_type": "display_data",
          "data": {
            "image/png": "[encoded data removed]",
            "text/plain": [
              "<Figure size 432x288 with 1 Axes>"
            ]
          },
          "metadata": {
            "tags": [],
            "needs_background": "light"
          }
        }
      ]
    },
    {
      "cell_type": "code",
      "metadata": {
        "id": "so8qQemu2Q6R",
        "colab_type": "code",
        "colab": {
          "base_uri": "https://localhost:8080/",
          "height": 299
        },
        "outputId": "b17000bb-d1b0-4aac-d17c-717cf14d5bc3"
      },
      "source": [
        "plt.imshow(train_digits[0],cmap='gray')\n",
        "plt.title(\"Digit\"+ str(train_labels[0]))"
      ],
      "execution_count": 18,
      "outputs": [
        {
          "output_type": "execute_result",
          "data": {
            "text/plain": [
              "Text(0.5, 1.0, 'Digit5')"
            ]
          },
          "metadata": {
            "tags": []
          },
          "execution_count": 18
        },
        {
          "output_type": "display_data",
          "data": {
            "image/png": "[encoded data removed]",
            "text/plain": [
              "<Figure size 432x288 with 1 Axes>"
            ]
          },
          "metadata": {
            "tags": [],
            "needs_background": "light"
          }
        }
      ]
    },
    {
      "cell_type": "code",
      "metadata": {
        "id": "sAwmBuKb3m2o",
        "colab_type": "code",
        "colab": {
          "base_uri": "https://localhost:8080/",
          "height": 878
        },
        "outputId": "a4c55c5f-5e0e-47dc-fa48-123a24f75c32"
      },
      "source": [
        "train_digits[5:10,22:25]"
      ],
      "execution_count": 20,
      "outputs": [
        {
          "output_type": "execute_result",
          "data": {
            "text/plain": [
              "array([[[  0,   0,   0,   0,   0,  13,  93, 143, 121,  23,   6,   0,\n",
              "           0,   0,   0,   0,   0,   0,   0,   0,   0,   0,   0,   0,\n",
              "           0,   0,   0,   0],\n",
              "        [  0,   0,   0,   0,   0,   0,   0,   0,   0,   0,   0,   0,\n",
              "           0,   0,   0,   0,   0,   0,   0,   0,   0,   0,   0,   0,\n",
              "           0,   0,   0,   0],\n",
              "        [  0,   0,   0,   0,   0,   0,   0,   0,   0,   0,   0,   0,\n",
              "           0,   0,   0,   0,   0,   0,   0,   0,   0,   0,   0,   0,\n",
              "           0,   0,   0,   0]],\n",
              "\n",
              "       [[  0,   0,   0,   0,   0,   0,   0,   0,   0,   0,   0,   0,\n",
              "           0,   0,  73, 252, 252, 253,  35,   0,   0,   0,   0,   0,\n",
              "           0,   0,   0,   0],\n",
              "        [  0,   0,   0,   0,   0,   0,   0,   0,   0,   0,   0,   0,\n",
              "           0,   0,  31, 211, 252, 253,  35,   0,   0,   0,   0,   0,\n",
              "           0,   0,   0,   0],\n",
              "        [  0,   0,   0,   0,   0,   0,   0,   0,   0,   0,   0,   0,\n",
              "           0,   0,   0,   0,   0,   0,   0,   0,   0,   0,   0,   0,\n",
              "           0,   0,   0,   0]],\n",
              "\n",
              "       [[  0,   0,   0,   0,   0, 208, 252, 252, 252, 252, 252, 252,\n",
              "         252, 252, 253, 230, 153,   8,   0,   0,   0,   0,   0,   0,\n",
              "           0,   0,   0,   0],\n",
              "        [  0,   0,   0,   0,   0,  49, 157, 252, 252, 252, 252, 252,\n",
              "         217, 207, 146,  45,   0,   0,   0,   0,   0,   0,   0,   0,\n",
              "           0,   0,   0,   0],\n",
              "        [  0,   0,   0,   0,   0,   0,   7, 103, 235, 252, 172, 103,\n",
              "          24,   0,   0,   0,   0,   0,   0,   0,   0,   0,   0,   0,\n",
              "           0,   0,   0,   0]],\n",
              "\n",
              "       [[  0,   0,   0,   0,   0,   0,   0,   0,   0,   0,   0,   0,\n",
              "           0,   0, 144, 254,  82,   0,   0,   0,   0,   0,   0,   0,\n",
              "           0,   0,   0,   0],\n",
              "        [  0,   0,   0,   0,   0,   0,   0,   0,   0,   0,   0,   0,\n",
              "           0,   0, 230, 247,  40,   0,   0,   0,   0,   0,   0,   0,\n",
              "           0,   0,   0,   0],\n",
              "        [  0,   0,   0,   0,   0,   0,   0,   0,   0,   0,   0,   0,\n",
              "           0,   0, 168, 209,  31,   0,   0,   0,   0,   0,   0,   0,\n",
              "           0,   0,   0,   0]],\n",
              "\n",
              "       [[  0,   0,   0,   0,   0,   0,   0,   0,   0,   0, 218, 252,\n",
              "         160,   0,   0,   0,   0,   0,   0,   0,   0,   0,   0,   0,\n",
              "           0,   0,   0,   0],\n",
              "        [  0,   0,   0,   0,   0,   0,   0,   0,   0,   0, 122, 252,\n",
              "          82,   0,   0,   0,   0,   0,   0,   0,   0,   0,   0,   0,\n",
              "           0,   0,   0,   0],\n",
              "        [  0,   0,   0,   0,   0,   0,   0,   0,   0,   0,   0,   0,\n",
              "           0,   0,   0,   0,   0,   0,   0,   0,   0,   0,   0,   0,\n",
              "           0,   0,   0,   0]]], dtype=uint8)"
            ]
          },
          "metadata": {
            "tags": []
          },
          "execution_count": 20
        }
      ]
    },
    {
      "cell_type": "code",
      "metadata": {
        "id": "5hF4rk9Y3tgb",
        "colab_type": "code",
        "colab": {
          "base_uri": "https://localhost:8080/",
          "height": 105
        },
        "outputId": "55c85809-009d-4838-b84a-19399818048d"
      },
      "source": [
        "train_digits[0][5:10,22:25]"
      ],
      "execution_count": 21,
      "outputs": [
        {
          "output_type": "execute_result",
          "data": {
            "text/plain": [
              "array([[247, 127,   0],\n",
              "       [195,  64,   0],\n",
              "       [ 39,   0,   0],\n",
              "       [  0,   0,   0],\n",
              "       [  0,   0,   0]], dtype=uint8)"
            ]
          },
          "metadata": {
            "tags": []
          },
          "execution_count": 21
        }
      ]
    },
    {
      "cell_type": "code",
      "metadata": {
        "id": "fam5bPlO3zyt",
        "colab_type": "code",
        "colab": {
          "base_uri": "https://localhost:8080/",
          "height": 34
        },
        "outputId": "81b1e5e3-5657-45f4-d32e-27edd8b85a77"
      },
      "source": [
        "train_labels[10:20]"
      ],
      "execution_count": 22,
      "outputs": [
        {
          "output_type": "execute_result",
          "data": {
            "text/plain": [
              "array([3, 5, 3, 6, 1, 7, 2, 8, 6, 9], dtype=uint8)"
            ]
          },
          "metadata": {
            "tags": []
          },
          "execution_count": 22
        }
      ]
    },
    {
      "cell_type": "code",
      "metadata": {
        "id": "Qbksqey44HrT",
        "colab_type": "code",
        "colab": {
          "base_uri": "https://localhost:8080/",
          "height": 335
        },
        "outputId": "79d3e628-6b72-4292-ab03-babdc9842367"
      },
      "source": [
        "plt.hist(train_digits[14].flat)"
      ],
      "execution_count": 23,
      "outputs": [
        {
          "output_type": "execute_result",
          "data": {
            "text/plain": [
              "(array([713.,  17.,   1.,   2.,  10.,   0.,   4.,   4.,   2.,  31.]),\n",
              " array([  0. ,  25.5,  51. ,  76.5, 102. , 127.5, 153. , 178.5, 204. ,\n",
              "        229.5, 255. ]),\n",
              " <a list of 10 Patch objects>)"
            ]
          },
          "metadata": {
            "tags": []
          },
          "execution_count": 23
        },
        {
          "output_type": "display_data",
          "data": {
            "image/png": "[encoded data removed]",
            "text/plain": [
              "<Figure size 432x288 with 1 Axes>"
            ]
          },
          "metadata": {
            "tags": [],
            "needs_background": "light"
          }
        }
      ]
    },
    {
      "cell_type": "code",
      "metadata": {
        "id": "WSIzGDM_4nST",
        "colab_type": "code",
        "colab": {
          "base_uri": "https://localhost:8080/",
          "height": 52
        },
        "outputId": "631a0d7d-563f-40e1-e5d8-bc14e732870e"
      },
      "source": [
        "samples = np.random.randint(train_digits.shape[0],size=16)\n",
        "samples"
      ],
      "execution_count": 24,
      "outputs": [
        {
          "output_type": "execute_result",
          "data": {
            "text/plain": [
              "array([30100, 33972, 33096, 32944, 53548, 44780, 43881,  1581, 48369,\n",
              "       30161, 43345, 43502, 48946, 45348, 39862, 16139])"
            ]
          },
          "metadata": {
            "tags": []
          },
          "execution_count": 24
        }
      ]
    },
    {
      "cell_type": "code",
      "metadata": {
        "id": "-LISr9O15ghP",
        "colab_type": "code",
        "colab": {
          "base_uri": "https://localhost:8080/",
          "height": 706
        },
        "outputId": "020e6487-e534-4413-c1ce-d918bfc08216"
      },
      "source": [
        "plt.figure(figsize = (16,16))\n",
        "j=1\n",
        "for i in samples:\n",
        "  plt.subplot(4,4,j)\n",
        "  plt.imshow(train_digits[i])\n",
        "  plt.title(\"Digit:\" +str(train_labels[i]))\n",
        "  plt.axis('off')\n",
        "  j+=1"
      ],
      "execution_count": 27,
      "outputs": [
        {
          "output_type": "display_data",
          "data": {
            "image/png": "[encoded data removed]",
            "text/plain": [
              "<Figure size 1152x1152 with 16 Axes>"
            ]
          },
          "metadata": {
            "tags": [],
            "needs_background": "light"
          }
        }
      ]
    },
    {
      "cell_type": "code",
      "metadata": {
        "id": "GeprbyQp6AfL",
        "colab_type": "code",
        "colab": {
          "base_uri": "https://localhost:8080/",
          "height": 703
        },
        "outputId": "1153da7e-f7e0-42bf-a22f-40172e48cfe4"
      },
      "source": [
        "plt.figure(figsize = (16,16))\n",
        "j=1\n",
        "for i in samples:\n",
        "  plt.subplot(4,4,j)\n",
        "  plt.hist(train_digits[i].flat)\n",
        "  plt.title(\"Digit:\" +str(train_labels[i]))\n",
        "  plt.axis('off')\n",
        "  j+=1"
      ],
      "execution_count": 30,
      "outputs": [
        {
          "output_type": "display_data",
          "data": {
            "image/png": "[encoded data removed]",
            "text/plain": [
              "<Figure size 1152x1152 with 16 Axes>"
            ]
          },
          "metadata": {
            "tags": [],
            "needs_background": "light"
          }
        }
      ]
    },
    {
      "cell_type": "markdown",
      "metadata": {
        "id": "11deZkLL8Zpp",
        "colab_type": "text"
      },
      "source": [
        "## PreProcessing"
      ]
    },
    {
      "cell_type": "markdown",
      "metadata": {
        "id": "uvPFoTXk8c4F",
        "colab_type": "text"
      },
      "source": [
        "### Scaling"
      ]
    },
    {
      "cell_type": "code",
      "metadata": {
        "id": "kAqX79hV7y_Q",
        "colab_type": "code",
        "colab": {}
      },
      "source": [
        "## pixel values are from 0 to 255\n",
        "train_digits_sc = train_digits/255.0\n",
        "test_digits_sc  = test_digits/255.0\n"
      ],
      "execution_count": 31,
      "outputs": []
    },
    {
      "cell_type": "code",
      "metadata": {
        "id": "m1IWQJQg8omE",
        "colab_type": "code",
        "colab": {
          "base_uri": "https://localhost:8080/",
          "height": 34
        },
        "outputId": "2e0e0df6-5ce2-4572-bbb7-eacf0d0b169b"
      },
      "source": [
        "train_labels"
      ],
      "execution_count": 32,
      "outputs": [
        {
          "output_type": "execute_result",
          "data": {
            "text/plain": [
              "array([5, 0, 4, ..., 5, 6, 8], dtype=uint8)"
            ]
          },
          "metadata": {
            "tags": []
          },
          "execution_count": 32
        }
      ]
    },
    {
      "cell_type": "code",
      "metadata": {
        "id": "drW_wiq687Dr",
        "colab_type": "code",
        "colab": {}
      },
      "source": [
        "from keras.utils import to_categorical"
      ],
      "execution_count": 33,
      "outputs": []
    },
    {
      "cell_type": "code",
      "metadata": {
        "id": "JZBbLIn48-79",
        "colab_type": "code",
        "colab": {}
      },
      "source": [
        "train_labels_cat = to_categorical(train_labels)"
      ],
      "execution_count": 36,
      "outputs": []
    },
    {
      "cell_type": "code",
      "metadata": {
        "id": "BKzJiJyi9Mne",
        "colab_type": "code",
        "colab": {
          "base_uri": "https://localhost:8080/",
          "height": 34
        },
        "outputId": "96b6f1b9-1886-40cc-e682-707776ac67ea"
      },
      "source": [
        "train_labels_cat[0]"
      ],
      "execution_count": 37,
      "outputs": [
        {
          "output_type": "execute_result",
          "data": {
            "text/plain": [
              "array([0., 0., 0., 0., 0., 1., 0., 0., 0., 0.], dtype=float32)"
            ]
          },
          "metadata": {
            "tags": []
          },
          "execution_count": 37
        }
      ]
    },
    {
      "cell_type": "code",
      "metadata": {
        "id": "WlOuucxe9P9G",
        "colab_type": "code",
        "colab": {
          "base_uri": "https://localhost:8080/",
          "height": 34
        },
        "outputId": "de5ab6fb-9266-40dd-b55f-5a173db8573b"
      },
      "source": [
        "test_labels_cat = to_categorical(test_labels)\n",
        "test_labels_cat[9]"
      ],
      "execution_count": 38,
      "outputs": [
        {
          "output_type": "execute_result",
          "data": {
            "text/plain": [
              "array([0., 0., 0., 0., 0., 0., 0., 0., 0., 1.], dtype=float32)"
            ]
          },
          "metadata": {
            "tags": []
          },
          "execution_count": 38
        }
      ]
    },
    {
      "cell_type": "markdown",
      "metadata": {
        "id": "Gnd-h65W-bKZ",
        "colab_type": "text"
      },
      "source": [
        "# Split the train data and validation"
      ]
    },
    {
      "cell_type": "code",
      "metadata": {
        "id": "fbgQzDZ69fUJ",
        "colab_type": "code",
        "colab": {
          "base_uri": "https://localhost:8080/",
          "height": 70
        },
        "outputId": "28bb99dc-bb3a-4aa3-9882-206bace5cdde"
      },
      "source": [
        "from sklearn.model_selection import train_test_split\n",
        "X_train,X_val,y_train,y_val = train_test_split(train_digits_sc,train_labels_cat,test_size=0.1,random_state=32)\n",
        "print(X_train.shape)\n",
        "print(X_val.shape)\n",
        "print(y_train.shape)"
      ],
      "execution_count": 40,
      "outputs": [
        {
          "output_type": "stream",
          "text": [
            "(54000, 28, 28)\n",
            "(6000, 28, 28)\n",
            "(54000, 10)\n"
          ],
          "name": "stdout"
        }
      ]
    },
    {
      "cell_type": "markdown",
      "metadata": {
        "id": "xbd8Lg18_a7W",
        "colab_type": "text"
      },
      "source": [
        "# Build and Train the model"
      ]
    },
    {
      "cell_type": "markdown",
      "metadata": {
        "id": "mOi_RQK__iJi",
        "colab_type": "text"
      },
      "source": [
        "# Build the model"
      ]
    },
    {
      "cell_type": "code",
      "metadata": {
        "id": "cSa_09Wk_LeZ",
        "colab_type": "code",
        "colab": {}
      },
      "source": [
        "## import the methods required\n",
        "from keras.models import Sequential\n",
        "from keras.layers import Dense,Flatten"
      ],
      "execution_count": 43,
      "outputs": []
    },
    {
      "cell_type": "code",
      "metadata": {
        "id": "NtznoA-g_gVf",
        "colab_type": "code",
        "colab": {
          "base_uri": "https://localhost:8080/",
          "height": 368
        },
        "outputId": "64fb13a3-03cb-4382-afcc-018213ae7e5b"
      },
      "source": [
        "## We are creating the base model\n",
        "model = Sequential()\n",
        "#First layer\n",
        "model.add(Flatten(input_shape = (28,28)))\n",
        "## 784 pixel values as input to this Dense.128 Neurons in the layers\n",
        "model.add(Dense(128,activation='relu')) #784*128 + 128\n",
        "model.add(Dense(128,activation='relu')) #128*128 + 128\n",
        "model.add(Dense(64,activation='relu'))\n",
        "model.add(Dense(256,activation='relu'))\n",
        "# Final layer \n",
        "model.add(Dense(10,activation='softmax'))\n",
        "model.summary()\n"
      ],
      "execution_count": 45,
      "outputs": [
        {
          "output_type": "stream",
          "text": [
            "Model: \"sequential_2\"\n",
            "_________________________________________________________________\n",
            "Layer (type)                 Output Shape              Param #   \n",
            "=================================================================\n",
            "flatten_2 (Flatten)          (None, 784)               0         \n",
            "_________________________________________________________________\n",
            "dense_3 (Dense)              (None, 128)               100480    \n",
            "_________________________________________________________________\n",
            "dense_4 (Dense)              (None, 128)               16512     \n",
            "_________________________________________________________________\n",
            "dense_5 (Dense)              (None, 64)                8256      \n",
            "_________________________________________________________________\n",
            "dense_6 (Dense)              (None, 256)               16640     \n",
            "_________________________________________________________________\n",
            "dense_7 (Dense)              (None, 10)                2570      \n",
            "=================================================================\n",
            "Total params: 144,458\n",
            "Trainable params: 144,458\n",
            "Non-trainable params: 0\n",
            "_________________________________________________________________\n"
          ],
          "name": "stdout"
        }
      ]
    },
    {
      "cell_type": "markdown",
      "metadata": {
        "id": "5P4Xf4SDHX71",
        "colab_type": "text"
      },
      "source": [
        "# Compile the model\n",
        "What is the loss function?<br>\n",
        "What is the optimizer?<br>\n",
        "What are the metrics?<br>"
      ]
    },
    {
      "cell_type": "code",
      "metadata": {
        "id": "HSXvfWN8FE2f",
        "colab_type": "code",
        "colab": {}
      },
      "source": [
        "model.compile(optimizer='adam',loss=tf.keras.losses.CategoricalCrossentropy(),metrics=['accuracy'])\n"
      ],
      "execution_count": 48,
      "outputs": []
    },
    {
      "cell_type": "code",
      "metadata": {
        "id": "qgJiMCfpIXmo",
        "colab_type": "code",
        "colab": {
          "base_uri": "https://localhost:8080/",
          "height": 406
        },
        "outputId": "ace8b3e5-d338-4813-94df-51c0ce9ff826"
      },
      "source": [
        "history=model.fit(x=X_train,y=y_train,epochs=10,\\\n",
        "                  validation_data=(X_val,y_val),batch_size=32)"
      ],
      "execution_count": 49,
      "outputs": [
        {
          "output_type": "stream",
          "text": [
            "Train on 54000 samples, validate on 6000 samples\n",
            "Epoch 1/10\n",
            "54000/54000 [==============================] - 8s 141us/step - loss: 0.2488 - accuracy: 0.9235 - val_loss: 0.1579 - val_accuracy: 0.9553\n",
            "Epoch 2/10\n",
            "54000/54000 [==============================] - 7s 136us/step - loss: 0.1126 - accuracy: 0.9660 - val_loss: 0.1242 - val_accuracy: 0.9633\n",
            "Epoch 3/10\n",
            "54000/54000 [==============================] - 7s 135us/step - loss: 0.0828 - accuracy: 0.9744 - val_loss: 0.1028 - val_accuracy: 0.9725\n",
            "Epoch 4/10\n",
            "54000/54000 [==============================] - 7s 135us/step - loss: 0.0672 - accuracy: 0.9790 - val_loss: 0.1016 - val_accuracy: 0.9732\n",
            "Epoch 5/10\n",
            "54000/54000 [==============================] - 7s 135us/step - loss: 0.0556 - accuracy: 0.9823 - val_loss: 0.1021 - val_accuracy: 0.9715\n",
            "Epoch 6/10\n",
            "54000/54000 [==============================] - 7s 136us/step - loss: 0.0448 - accuracy: 0.9859 - val_loss: 0.1042 - val_accuracy: 0.9735\n",
            "Epoch 7/10\n",
            "54000/54000 [==============================] - 7s 136us/step - loss: 0.0406 - accuracy: 0.9873 - val_loss: 0.0966 - val_accuracy: 0.9770\n",
            "Epoch 8/10\n",
            "54000/54000 [==============================] - 9s 167us/step - loss: 0.0318 - accuracy: 0.9897 - val_loss: 0.1125 - val_accuracy: 0.9740\n",
            "Epoch 9/10\n",
            "54000/54000 [==============================] - 7s 139us/step - loss: 0.0317 - accuracy: 0.9899 - val_loss: 0.1107 - val_accuracy: 0.9750\n",
            "Epoch 10/10\n",
            "54000/54000 [==============================] - 7s 131us/step - loss: 0.0295 - accuracy: 0.9905 - val_loss: 0.1187 - val_accuracy: 0.9750\n"
          ],
          "name": "stdout"
        }
      ]
    },
    {
      "cell_type": "code",
      "metadata": {
        "id": "xzYb_TyRJ_0E",
        "colab_type": "code",
        "colab": {
          "base_uri": "https://localhost:8080/",
          "height": 52
        },
        "outputId": "9ef4f61d-e899-4f9f-e483-8d262e1fee54"
      },
      "source": [
        "model.evaluate(test_digits_sc,test_labels_cat)"
      ],
      "execution_count": 50,
      "outputs": [
        {
          "output_type": "stream",
          "text": [
            "10000/10000 [==============================] - 1s 56us/step\n"
          ],
          "name": "stdout"
        },
        {
          "output_type": "execute_result",
          "data": {
            "text/plain": [
              "[0.09362936761824057, 0.978600025177002]"
            ]
          },
          "metadata": {
            "tags": []
          },
          "execution_count": 50
        }
      ]
    },
    {
      "cell_type": "code",
      "metadata": {
        "id": "i4f20FOAOe5l",
        "colab_type": "code",
        "colab": {
          "base_uri": "https://localhost:8080/",
          "height": 70
        },
        "outputId": "6bc0c96b-bb75-4c1b-b766-57e9fa2ede18"
      },
      "source": [
        "print(test_digits_sc.shape)\n",
        "print(test_digits_sc[0].shape)\n",
        "print(np.expand_dims(test_digits_sc[0],axis=0).shape)"
      ],
      "execution_count": 51,
      "outputs": [
        {
          "output_type": "stream",
          "text": [
            "(10000, 28, 28)\n",
            "(28, 28)\n",
            "(1, 28, 28)\n"
          ],
          "name": "stdout"
        }
      ]
    },
    {
      "cell_type": "code",
      "metadata": {
        "id": "rQgmkq7iQZrq",
        "colab_type": "code",
        "colab": {
          "base_uri": "https://localhost:8080/",
          "height": 34
        },
        "outputId": "d6fbbc03-4760-44e3-b7da-d1ba86e4bb34"
      },
      "source": [
        "test_labels[0]"
      ],
      "execution_count": 52,
      "outputs": [
        {
          "output_type": "execute_result",
          "data": {
            "text/plain": [
              "7"
            ]
          },
          "metadata": {
            "tags": []
          },
          "execution_count": 52
        }
      ]
    },
    {
      "cell_type": "code",
      "metadata": {
        "id": "RDSxMFk5QcJj",
        "colab_type": "code",
        "colab": {
          "base_uri": "https://localhost:8080/",
          "height": 70
        },
        "outputId": "3f978209-857c-49f6-dc8a-3704ed5bb45c"
      },
      "source": [
        "model.predict(np.expand_dims(test_digits_sc[0],axis=0))\n"
      ],
      "execution_count": 53,
      "outputs": [
        {
          "output_type": "execute_result",
          "data": {
            "text/plain": [
              "array([[2.6280955e-10, 4.1823327e-09, 6.2029507e-08, 2.7557221e-07,\n",
              "        1.6394345e-09, 1.9718727e-11, 4.5215991e-14, 9.9999785e-01,\n",
              "        6.5124317e-10, 1.7748329e-06]], dtype=float32)"
            ]
          },
          "metadata": {
            "tags": []
          },
          "execution_count": 53
        }
      ]
    },
    {
      "cell_type": "code",
      "metadata": {
        "id": "TYTkwHLXQwZ8",
        "colab_type": "code",
        "colab": {
          "base_uri": "https://localhost:8080/",
          "height": 544
        },
        "outputId": "c0643377-aa8d-4fd1-cd7d-d818fc8c2ca0"
      },
      "source": [
        "model.predict(test_digits_sc[:10])"
      ],
      "execution_count": 54,
      "outputs": [
        {
          "output_type": "execute_result",
          "data": {
            "text/plain": [
              "array([[2.6280955e-10, 4.1823407e-09, 6.2029621e-08, 2.7557300e-07,\n",
              "        1.6394345e-09, 1.9718765e-11, 4.5216076e-14, 9.9999785e-01,\n",
              "        6.5124445e-10, 1.7748346e-06],\n",
              "       [2.4020771e-10, 1.3735810e-07, 9.9999988e-01, 1.0851660e-09,\n",
              "        1.4637680e-11, 5.1362294e-13, 5.1946160e-12, 3.5761605e-08,\n",
              "        2.3159741e-11, 4.9627409e-17],\n",
              "       [2.2240978e-09, 9.9995744e-01, 3.3241452e-07, 3.3598557e-08,\n",
              "        3.7482507e-06, 6.8159691e-09, 3.0420651e-08, 6.3160683e-06,\n",
              "        3.2003074e-05, 1.0108769e-07],\n",
              "       [9.9997091e-01, 3.7282824e-12, 2.8952076e-07, 9.9030068e-08,\n",
              "        2.0804549e-09, 1.8197808e-08, 2.8150114e-05, 7.9182612e-11,\n",
              "        2.7339986e-08, 4.6185315e-07],\n",
              "       [6.4994914e-08, 3.5428516e-07, 2.2564494e-05, 2.5151107e-07,\n",
              "        9.9955088e-01, 3.3302283e-06, 3.8075079e-06, 7.4745351e-08,\n",
              "        2.5094278e-07, 4.1831535e-04],\n",
              "       [4.1304633e-11, 9.9998391e-01, 6.6372561e-09, 2.1765909e-09,\n",
              "        6.4948390e-06, 4.3128653e-11, 5.9483668e-11, 9.0917456e-06,\n",
              "        4.5725301e-07, 2.7703701e-08],\n",
              "       [3.5152867e-10, 5.4200626e-08, 1.6226234e-06, 9.9351709e-09,\n",
              "        9.9993539e-01, 4.8233339e-08, 5.7748313e-09, 8.6726750e-08,\n",
              "        4.0530547e-05, 2.2151669e-05],\n",
              "       [5.3454435e-10, 4.7733741e-09, 2.8137663e-08, 1.1242155e-04,\n",
              "        9.8884122e-08, 4.0986706e-06, 1.1620829e-12, 4.7744948e-07,\n",
              "        5.6942291e-08, 9.9988282e-01],\n",
              "       [9.1709449e-09, 4.1937102e-07, 2.9022013e-07, 6.5106821e-07,\n",
              "        1.5885098e-08, 9.5561951e-01, 4.4060651e-02, 8.6762784e-11,\n",
              "        3.1089361e-04, 7.5596831e-06],\n",
              "       [1.9382642e-09, 3.5090735e-09, 1.0788728e-08, 4.6673472e-06,\n",
              "        4.2139413e-07, 5.7553547e-07, 4.9974083e-12, 1.2519417e-06,\n",
              "        4.9273787e-08, 9.9999309e-01]], dtype=float32)"
            ]
          },
          "metadata": {
            "tags": []
          },
          "execution_count": 54
        }
      ]
    },
    {
      "cell_type": "code",
      "metadata": {
        "id": "c5Bl4lNLQ1ab",
        "colab_type": "code",
        "colab": {
          "base_uri": "https://localhost:8080/",
          "height": 34
        },
        "outputId": "3842880a-2c61-4cc9-8767-c1b1a3c123df"
      },
      "source": [
        "model.predict_classes(np.expand_dims(test_digits_sc[0],axis=0))\n"
      ],
      "execution_count": 55,
      "outputs": [
        {
          "output_type": "execute_result",
          "data": {
            "text/plain": [
              "array([7])"
            ]
          },
          "metadata": {
            "tags": []
          },
          "execution_count": 55
        }
      ]
    },
    {
      "cell_type": "code",
      "metadata": {
        "id": "CnIFRtwsRA7a",
        "colab_type": "code",
        "colab": {}
      },
      "source": [
        ""
      ],
      "execution_count": null,
      "outputs": []
    }
  ]
}